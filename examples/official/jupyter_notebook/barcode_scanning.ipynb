{
  "cells": [
    {
      "cell_type": "markdown",
      "id": "e4f2a6bd",
      "metadata": {
        "id": "e4f2a6bd"
      },
      "source": [
        "## Installation"
      ]
    },
    {
      "cell_type": "code",
      "execution_count": null,
      "id": "2fc1ab02",
      "metadata": {
        "colab": {
          "base_uri": "https://localhost:8080/"
        },
        "id": "2fc1ab02",
        "outputId": "8fca05ec-2504-4bf4-a79e-57818b1d00f5",
        "scrolled": true
      },
      "outputs": [],
      "source": [
        "%pip install dynamsoft-barcode-reader-bundle opencv-python matplotlib"
      ]
    },
    {
      "cell_type": "markdown",
      "id": "c18f05e7",
      "metadata": {
        "id": "c18f05e7"
      },
      "source": [
        "## Set a license key to activate Dynamsoft Barcode SDK"
      ]
    },
    {
      "cell_type": "markdown",
      "id": "49130381",
      "metadata": {
        "id": "49130381"
      },
      "source": [
        "[![](https://img.shields.io/badge/Get-30--day%20FREE%20Trial%20License-blue)](https://www.dynamsoft.com/customer/license/trialLicense/?product=dcv&package=cross-platform)"
      ]
    },
    {
      "cell_type": "markdown",
      "id": "ffcaf90c",
      "metadata": {
        "id": "ffcaf90c"
      },
      "source": [
        "## Upload barcode images for recognition"
      ]
    },
    {
      "cell_type": "code",
      "execution_count": 29,
      "id": "2695c348",
      "metadata": {
        "colab": {
          "base_uri": "https://localhost:8080/",
          "height": 713,
          "referenced_widgets": [
            "b66f527f2cf8410ea9a7d4430ae12d7e",
            "c5acc23ec63a4db29ed3f30579174757",
            "280068ee84ba47aabfd82ed01616e90b"
          ]
        },
        "id": "2695c348",
        "outputId": "62e71b42-2dac-4515-fe0c-10d2cc4819f9"
      },
      "outputs": [
        {
          "data": {
            "application/vnd.jupyter.widget-view+json": {
              "model_id": "f30d537098ee4d01b713356564c9d7d7",
              "version_major": 2,
              "version_minor": 0
            },
            "text/plain": [
              "FileUpload(value=(), accept='image/*', description='Upload', multiple=True)"
            ]
          },
          "execution_count": 29,
          "metadata": {},
          "output_type": "execute_result"
        }
      ],
      "source": [
        "from ipywidgets import FileUpload\n",
        "import cv2 as cv\n",
        "import matplotlib.pyplot as plt\n",
        "import numpy as np\n",
        "from dynamsoft_capture_vision_bundle import *\n",
        "import time\n",
        "\n",
        "# ---------- Dynamsoft init ----------\n",
        "cvr_instance = CaptureVisionRouter()\n",
        "error_code, error_message = LicenseManager.init_license(\n",
        "    \"DLS2eyJoYW5kc2hha2VDb2RlIjoiMjAwMDAxLTE2NDk4Mjk3OTI2MzUiLCJvcmdhbml6YXRpb25JRCI6IjIwMDAwMSIsInNlc3Npb25QYXNzd29yZCI6IndTcGR6Vm05WDJrcEQ5YUoifQ==\"\n",
        ")\n",
        "if error_code not in (EnumErrorCode.EC_OK, EnumErrorCode.EC_LICENSE_CACHE_USED):\n",
        "    print(\"License initialization failed: ErrorCode:\", error_code, \", ErrorString:\", error_message)\n",
        "\n",
        "# ---------- Helper functions ----------\n",
        "def decode(frame):\n",
        "    before = time.time()\n",
        "    result = cvr_instance.capture(frame, EnumPresetTemplate.PT_READ_BARCODES.value)\n",
        "    after = time.time()\n",
        "\n",
        "    COLOR_RED = (0, 0, 255)\n",
        "    thickness = 2\n",
        "    text_x, text_y = 10, 20\n",
        "\n",
        "    if result.get_error_code() != EnumErrorCode.EC_OK:\n",
        "        print(\"Error:\", result.get_error_code(), result.get_error_string())\n",
        "        cv.putText(frame, f'{after - before:.2f} s, barcode found: 0', (text_x, text_y),\n",
        "                   cv.FONT_HERSHEY_SIMPLEX, 0.5, COLOR_RED)\n",
        "        return\n",
        "\n",
        "    items = result.get_items()\n",
        "    found = len(items)\n",
        "    for item in items:\n",
        "        format_type = item.get_format()\n",
        "        text = item.get_text()\n",
        "        print(f'Format: {format_type}, Text: {text}')\n",
        "        loc = item.get_location()\n",
        "        pts = np.array([[p.x, p.y] for p in loc.points], dtype=np.int32)\n",
        "        cv.drawContours(image=frame, contours=[pts], contourIdx=-1,\n",
        "                        color=COLOR_RED, thickness=thickness, lineType=cv.LINE_AA)\n",
        "        cv.putText(frame, f'{format_type}', (pts[0][0], pts[0][1] - 10),\n",
        "                   cv.FONT_HERSHEY_SIMPLEX, 0.5, COLOR_RED)\n",
        "        cv.putText(frame, f'{text}', (pts[0][0], pts[0][1] - 30),\n",
        "                   cv.FONT_HERSHEY_SIMPLEX, 0.5, COLOR_RED)\n",
        "    cv.putText(frame, f'{after - before:.2f} s, barcode found: {found}', (text_x, text_y),\n",
        "               cv.FONT_HERSHEY_SIMPLEX, 0.5, COLOR_RED)\n",
        "\n",
        "def show_image(img1, img2):\n",
        "    fig = plt.figure(figsize=(18, 8))\n",
        "    ax1 = fig.add_subplot(1, 2, 1)\n",
        "    ax1.set_title('Input image', fontsize=14)\n",
        "    ax1.axis('off')\n",
        "    ax2 = fig.add_subplot(1, 2, 2)\n",
        "    ax2.set_title('Barcode Recognition', fontsize=14)\n",
        "    ax2.axis('off')\n",
        "    ax1.imshow(img1)\n",
        "    ax2.imshow(img2)\n",
        "    plt.show()\n",
        "\n",
        "def _flatten_records(obj):\n",
        "    \"\"\"Yield leaf records regardless of whether obj is a dict/tuple/list/mixed.\"\"\"\n",
        "    if obj is None:\n",
        "        return\n",
        "    # Old style: {filename: {content: ..., ...}, ...}\n",
        "    if isinstance(obj, dict) and \"content\" not in obj:\n",
        "        for v in obj.values():\n",
        "            yield from _flatten_records(v)\n",
        "        return\n",
        "    if isinstance(obj, (list, tuple)):\n",
        "        for v in obj:\n",
        "            yield from _flatten_records(v)\n",
        "        return\n",
        "    # Leaf (either UploadedFile or dict with 'content')\n",
        "    yield obj\n",
        "\n",
        "def _get_bytes(rec):\n",
        "    \"\"\"Extract bytes for any record shape.\"\"\"\n",
        "    # UploadedFile in ipywidgets>=8\n",
        "    if hasattr(rec, \"content\"):\n",
        "        return rec.content\n",
        "    # Dict with 'content'\n",
        "    if isinstance(rec, dict) and \"content\" in rec:\n",
        "        return rec[\"content\"]\n",
        "    raise TypeError(f\"Unsupported upload record type: {type(rec)}\")\n",
        "\n",
        "# ---------- Upload handler ----------\n",
        "def on_upload_change(change):\n",
        "    if change.name != \"value\":\n",
        "        return\n",
        "    if not change.new:\n",
        "        return\n",
        "\n",
        "    up = change.owner\n",
        "    files_obj = change.new\n",
        "\n",
        "    # Normalize to iterable of records\n",
        "    records = list(_flatten_records(files_obj))\n",
        "\n",
        "    for rec in records:\n",
        "        try:\n",
        "            content = _get_bytes(rec)  # bytes\n",
        "        except Exception as e:\n",
        "            print(\"Skip unsupported record:\", e)\n",
        "            continue\n",
        "\n",
        "        buf = np.frombuffer(content, dtype=np.uint8)\n",
        "        img = cv.imdecode(buf, cv.IMREAD_COLOR)\n",
        "        if img is None:\n",
        "            print(\"Failed to decode image.\")\n",
        "            continue\n",
        "\n",
        "        new_img = img.copy()\n",
        "        try:\n",
        "            decode(new_img)\n",
        "        except Exception as e:\n",
        "            print(\"Decode error:\", e)\n",
        "\n",
        "        img_rgb = cv.cvtColor(img, cv.COLOR_BGR2RGB)\n",
        "        new_rgb = cv.cvtColor(new_img, cv.COLOR_BGR2RGB)\n",
        "        show_image(img_rgb, new_rgb)\n",
        "\n",
        "    # --- Safely reset the widget so the same file can be re-uploaded ---\n",
        "    # Temporarily unbind to avoid recursive change events\n",
        "    try:\n",
        "        up.unobserve(on_upload_change, names=\"value\")\n",
        "    except Exception:\n",
        "        pass\n",
        "\n",
        "    # Try several reset strategies depending on front-end\n",
        "    reset_done = False\n",
        "    for val in ((), [], None):\n",
        "        try:\n",
        "            up.value = val\n",
        "            reset_done = True\n",
        "            break\n",
        "        except Exception:\n",
        "            continue\n",
        "    if not reset_done:\n",
        "        try:\n",
        "            # Old dict-style supports .clear()\n",
        "            up.value.clear()\n",
        "            reset_done = True\n",
        "        except Exception:\n",
        "            pass\n",
        "\n",
        "    # Re-bind observer\n",
        "    try:\n",
        "        up.observe(on_upload_change, names=\"value\")\n",
        "    except Exception:\n",
        "        pass\n",
        "\n",
        "# ---------- Widget ----------\n",
        "uploader = FileUpload(accept='image/*', multiple=True)  # multiple=True works for tuple/list/dict variants\n",
        "uploader.observe(on_upload_change, names=\"value\")\n",
        "uploader\n"
      ]
    }
  ],
  "metadata": {
    "colab": {
      "provenance": [],
      "toc_visible": true
    },
    "kernelspec": {
      "display_name": "Python 3 (ipykernel)",
      "language": "python",
      "name": "python3"
    },
    "language_info": {
      "codemirror_mode": {
        "name": "ipython",
        "version": 3
      },
      "file_extension": ".py",
      "mimetype": "text/x-python",
      "name": "python",
      "nbconvert_exporter": "python",
      "pygments_lexer": "ipython3",
      "version": "3.9.7"
    },
    "widgets": {
      "application/vnd.jupyter.widget-state+json": {
        "280068ee84ba47aabfd82ed01616e90b": {
          "model_module": "@jupyter-widgets/controls",
          "model_module_version": "1.5.0",
          "model_name": "ButtonStyleModel",
          "state": {
            "_model_module": "@jupyter-widgets/controls",
            "_model_module_version": "1.5.0",
            "_model_name": "ButtonStyleModel",
            "_view_count": null,
            "_view_module": "@jupyter-widgets/base",
            "_view_module_version": "1.2.0",
            "_view_name": "StyleView",
            "button_color": null,
            "font_weight": ""
          }
        },
        "b66f527f2cf8410ea9a7d4430ae12d7e": {
          "model_module": "@jupyter-widgets/controls",
          "model_module_version": "1.5.0",
          "model_name": "FileUploadModel",
          "state": {
            "_counter": 1,
            "_dom_classes": [],
            "_model_module": "@jupyter-widgets/controls",
            "_model_module_version": "1.5.0",
            "_model_name": "FileUploadModel",
            "_view_count": null,
            "_view_module": "@jupyter-widgets/controls",
            "_view_module_version": "1.5.0",
            "_view_name": "FileUploadView",
            "accept": "image/*",
            "button_style": "",
            "data": [
              null
            ],
            "description": "Upload",
            "description_tooltip": null,
            "disabled": false,
            "error": "",
            "icon": "upload",
            "layout": "IPY_MODEL_c5acc23ec63a4db29ed3f30579174757",
            "metadata": [
              {
                "lastModified": 1611802392936,
                "name": "barcode.jpg",
                "size": 137247,
                "type": "image/jpeg"
              }
            ],
            "multiple": false,
            "style": "IPY_MODEL_280068ee84ba47aabfd82ed01616e90b"
          }
        },
        "c5acc23ec63a4db29ed3f30579174757": {
          "model_module": "@jupyter-widgets/base",
          "model_module_version": "1.2.0",
          "model_name": "LayoutModel",
          "state": {
            "_model_module": "@jupyter-widgets/base",
            "_model_module_version": "1.2.0",
            "_model_name": "LayoutModel",
            "_view_count": null,
            "_view_module": "@jupyter-widgets/base",
            "_view_module_version": "1.2.0",
            "_view_name": "LayoutView",
            "align_content": null,
            "align_items": null,
            "align_self": null,
            "border": null,
            "bottom": null,
            "display": null,
            "flex": null,
            "flex_flow": null,
            "grid_area": null,
            "grid_auto_columns": null,
            "grid_auto_flow": null,
            "grid_auto_rows": null,
            "grid_column": null,
            "grid_gap": null,
            "grid_row": null,
            "grid_template_areas": null,
            "grid_template_columns": null,
            "grid_template_rows": null,
            "height": null,
            "justify_content": null,
            "justify_items": null,
            "left": null,
            "margin": null,
            "max_height": null,
            "max_width": null,
            "min_height": null,
            "min_width": null,
            "object_fit": null,
            "object_position": null,
            "order": null,
            "overflow": null,
            "overflow_x": null,
            "overflow_y": null,
            "padding": null,
            "right": null,
            "top": null,
            "visibility": null,
            "width": null
          }
        }
      }
    }
  },
  "nbformat": 4,
  "nbformat_minor": 5
}
